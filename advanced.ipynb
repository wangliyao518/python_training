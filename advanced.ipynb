{
 "cells": [
  {
   "cell_type": "markdown",
   "metadata": {
    "slideshow": {
     "slide_type": "slide"
    }
   },
   "source": [
    "# Python Advanced\n",
    "\n",
    "![python](https://upload.wikimedia.org/wikipedia/commons/c/c3/Python-logo-notext.svg)"
   ]
  },
  {
   "cell_type": "markdown",
   "metadata": {
    "slideshow": {
     "slide_type": "slide"
    }
   },
   "source": [
    "## iterator(迭代器) and generator(生成器)"
   ]
  },
  {
   "cell_type": "markdown",
   "metadata": {
    "slideshow": {
     "slide_type": "subslide"
    }
   },
   "source": [
    "### Iterable \n",
    "* We already know that there are several types of data that can act directly on a for loop:\n",
    "One is the collection data type, such as list, tuple, dict, set, str, etc."
   ]
  },
  {
   "cell_type": "code",
   "execution_count": null,
   "metadata": {
    "slideshow": {
     "slide_type": "subslide"
    }
   },
   "outputs": [],
   "source": [
    "from collections import Iterable\n",
    "print '[] is: ',isinstance([], Iterable)\n",
    "print '{} is:',isinstance({}, Iterable)\n",
    "print 'string is:', isinstance('abc', Iterable)\n",
    "print 'tuple is:', isinstance((x for x in range(10)), Iterable)\n",
    "print 'int is:', isinstance(100, Iterable)\n"
   ]
  },
  {
   "cell_type": "code",
   "execution_count": null,
   "metadata": {},
   "outputs": [],
   "source": []
  },
  {
   "cell_type": "code",
   "execution_count": null,
   "metadata": {
    "slideshow": {
     "slide_type": "subslide"
    }
   },
   "outputs": [],
   "source": [
    "from collections import Iterator\n",
    "print isinstance((x for x in range(10)), Iterator)\n",
    "\n",
    "print isinstance([], Iterator)\n",
    "\n",
    "print isinstance({}, Iterator)\n",
    "\n",
    "print isinstance('abc', Iterator)\n"
   ]
  },
  {
   "cell_type": "code",
   "execution_count": null,
   "metadata": {},
   "outputs": [],
   "source": []
  },
  {
   "cell_type": "markdown",
   "metadata": {
    "slideshow": {
     "slide_type": "fragment"
    }
   },
   "source": [
    "**list、dict、str虽然是Iterable，却不是Iterator.**\n",
    "\n",
    "**可以被next()函数调用并不断返回下一个值的对象称为迭代器：Iterator。**\n",
    "\n",
    "**可以使用isinstance()判断一个对象是否是Iterator对象**"
   ]
  },
  {
   "cell_type": "markdown",
   "metadata": {
    "slideshow": {
     "slide_type": "subslide"
    }
   },
   "source": [
    "### iter\n",
    "we can use iter() to change list、dict、str Iterable instant to Iterator\n"
   ]
  },
  {
   "cell_type": "code",
   "execution_count": null,
   "metadata": {
    "slideshow": {
     "slide_type": "subslide"
    }
   },
   "outputs": [],
   "source": [
    "print isinstance(iter([]), Iterator)\n",
    "\n",
    "print isinstance(iter('abc'), Iterator)\n",
    "\n",
    "a = iter(\"abcd\")\n",
    "print next(a)\n",
    "print next(a)\n",
    "\n"
   ]
  },
  {
   "cell_type": "code",
   "execution_count": null,
   "metadata": {
    "slideshow": {
     "slide_type": "subslide"
    }
   },
   "outputs": [],
   "source": [
    "my_string = \"hello, world\"\n",
    "my_iter = iter(my_string)\n",
    "print next(my_iter)\n",
    "print next(my_iter)\n",
    "\n",
    "my_list = [1, 2, 3, 4]\n",
    "try:\n",
    "    next(my_list)\n",
    "except Exception, e:\n",
    "    print 'exception:', e\n",
    "my_iter = iter(my_list)\n",
    "next(my_iter)\n"
   ]
  },
  {
   "cell_type": "markdown",
   "metadata": {
    "slideshow": {
     "slide_type": "subslide"
    }
   },
   "source": [
    "### For"
   ]
  },
  {
   "cell_type": "code",
   "execution_count": null,
   "metadata": {
    "slideshow": {
     "slide_type": "subslide"
    }
   },
   "outputs": [],
   "source": [
    "for x in [1, 2, 3, 4, 5]:\n",
    "    print x\n",
    "\n",
    "# 首先获得Iterator对象:\n",
    "it = iter([1, 2, 3, 4, 5])\n",
    "# 循环:\n",
    "while True:\n",
    "    try:\n",
    "        # 获得下一个值:\n",
    "        x = next(it)\n",
    "    except StopIteration:\n",
    "        # 遇到StopIteration就退出循环\n",
    "        break"
   ]
  },
  {
   "cell_type": "markdown",
   "metadata": {
    "slideshow": {
     "slide_type": "subslide"
    }
   },
   "source": [
    "### refactor with Iterator\n",
    "* we resort to the Iterator pattern. The following implements Iterator as an iterable object."
   ]
  },
  {
   "cell_type": "code",
   "execution_count": null,
   "metadata": {
    "slideshow": {
     "slide_type": "fragment"
    }
   },
   "outputs": [],
   "source": [
    "#Toggle line numbers\n",
    "# Build and return a list\n",
    "\n",
    "def firstn(n):\n",
    "    num, nums = 0, []\n",
    "    while num < n:\n",
    "        nums.append(num)\n",
    "        num += 1\n",
    "    return nums\n",
    "sum_of_first_n = sum(firstn(1000000))"
   ]
  },
  {
   "cell_type": "code",
   "execution_count": null,
   "metadata": {
    "slideshow": {
     "slide_type": "subslide"
    }
   },
   "outputs": [],
   "source": [
    "# Using the generator pattern (an iterable)\n",
    "class firstn(object):\n",
    "    def __init__(self, n):\n",
    "        self.n = n\n",
    "        self.num = 0\n",
    "\n",
    "    def __iter__(self):\n",
    "        return self\n",
    "\n",
    "    def __next__(self):\n",
    "        return self.next()\n",
    "\n",
    "    def next(self):\n",
    "        if self.num < self.n:\n",
    "            cur, self.num = self.num, self.num+1\n",
    "            return cur\n",
    "        else:\n",
    "            raise StopIteration()\n",
    "sum_of_first_n = sum(firstn(1000000))\n",
    "print sum_of_first_n\n",
    "num = firstn(5)\n",
    "for i in num:\n",
    "    print i\n",
    "\n",
    "#print next(num)\n",
    "#print next(num)\n",
    "# print next(num)\n",
    "# print next(num)\n",
    "# print next(num)"
   ]
  },
  {
   "cell_type": "code",
   "execution_count": null,
   "metadata": {
    "slideshow": {
     "slide_type": "notes"
    }
   },
   "outputs": [],
   "source": [
    "class test():\n",
    "    def __init__(self,data=1):\n",
    "        self.data = data\n",
    "\n",
    "    def __next__(self):\n",
    "        if self.data > 5:\n",
    "            raise StopIteration\n",
    "        else:\n",
    "            self.data+=1\n",
    "            return self.data\n",
    "\n",
    "t = test(3)   \n",
    "for i in range(3):\n",
    "    print(t.__next__())"
   ]
  },
  {
   "cell_type": "markdown",
   "metadata": {
    "slideshow": {
     "slide_type": "subslide"
    }
   },
   "source": [
    "### Generator expressions \n",
    "* Generator expressions provide an additional shortcut to build generators out of expressions similar to that of list comprehensions.\n",
    "\n",
    "* In fact, we can turn a list comprehension into a generator expression by replacing the square brackets (\"[ ]\") with parentheses. Alternately, we can think of list comprehensions as generator expressions wrapped in a list constructor. "
   ]
  },
  {
   "cell_type": "code",
   "execution_count": null,
   "metadata": {
    "slideshow": {
     "slide_type": "fragment"
    }
   },
   "outputs": [],
   "source": [
    "doubles_list = [2 * n for n in range(50)]\n",
    "print '----', doubles_list\n",
    "\n",
    "doubles_generator = (2 * n for n in range(50))\n",
    "print '++++', doubles_generator"
   ]
  },
  {
   "cell_type": "markdown",
   "metadata": {
    "slideshow": {
     "slide_type": "subslide"
    }
   },
   "source": [
    "* The generator is very powerful. If the algorithm of calculation is complex, it can also be implemented with functions when the for loop of similar list generation cannot be implemented.\n",
    "\n",
    "* Another method of generator. If a function definition contains the yield key, then the function is no longer an ordinary function but a generator:"
   ]
  },
  {
   "cell_type": "code",
   "execution_count": null,
   "metadata": {
    "slideshow": {
     "slide_type": "subslide"
    }
   },
   "outputs": [],
   "source": [
    "# a generator that yields items instead of returning a list\n",
    "def firstn(n):\n",
    "    num = 0\n",
    "    while num < n:\n",
    "        yield num\n",
    "        num += 1\n",
    "sum_of_first_n = sum(firstn(1000000))\n",
    "print sum_of_first_n\n",
    "# num = firstn(5)\n",
    "# print next(num)\n",
    "# print next(num)\n",
    "# print next(num)\n",
    "# print next(num)\n",
    "# print next(num)"
   ]
  },
  {
   "cell_type": "code",
   "execution_count": null,
   "metadata": {
    "slideshow": {
     "slide_type": "subslide"
    }
   },
   "outputs": [],
   "source": [
    "def odd():\n",
    "    print('step 1')\n",
    "    yield 1\n",
    "    print('step 2')\n",
    "    yield(3)\n",
    "    print('step 3')\n",
    "    yield(5)\n",
    "\n",
    "o = odd()\n",
    "print next(o)\n",
    "print next(o)\n",
    "print next(o)\n",
    "next(o)"
   ]
  },
  {
   "cell_type": "markdown",
   "metadata": {
    "slideshow": {
     "slide_type": "subslide"
    }
   },
   "source": [
    "### range vs xrange\n",
    "\n",
    "The performance improvement from the use of generators is the result of the lazy (on demand) generation of values, which translates to lower memory usage. Furthermore, we do not need to wait until all the elements have been generated before we start to use them. This is similar to the benefits provided by iterators, but the generator makes building iterators easy.\n"
   ]
  },
  {
   "cell_type": "code",
   "execution_count": null,
   "metadata": {
    "slideshow": {
     "slide_type": "fragment"
    }
   },
   "outputs": [],
   "source": [
    "sum_of_first_n = sum(range(1000000))\n",
    "\n",
    "sum_of_first_m = sum(xrange(1000000))"
   ]
  },
  {
   "cell_type": "markdown",
   "metadata": {
    "slideshow": {
     "slide_type": "subslide"
    }
   },
   "source": [
    "### practice"
   ]
  },
  {
   "cell_type": "markdown",
   "metadata": {
    "slideshow": {
     "slide_type": "fragment"
    }
   },
   "source": [
    "- implement Fibonacci  sequence with generators"
   ]
  },
  {
   "cell_type": "code",
   "execution_count": null,
   "metadata": {
    "slideshow": {
     "slide_type": "subslide"
    }
   },
   "outputs": [],
   "source": [
    "# General implementation \n",
    "def fibon(n):\n",
    "    a = b = 1\n",
    "    result = []\n",
    "    for i in range(n):\n",
    "        result.append(a)\n",
    "        a, b = b, a + b\n",
    "    return result\n",
    "for x in fibon(10):\n",
    "    print(x)"
   ]
  },
  {
   "cell_type": "code",
   "execution_count": null,
   "metadata": {
    "slideshow": {
     "slide_type": "subslide"
    }
   },
   "outputs": [],
   "source": [
    "# generator version\n",
    "def fibon(n):\n",
    "    a = b = 1\n",
    "    for i in range(n):\n",
    "        yield a\n",
    "        a, b = b, a + b\n",
    "for x in fibon(10):\n",
    "    print(x)"
   ]
  },
  {
   "cell_type": "markdown",
   "metadata": {
    "slideshow": {
     "slide_type": "slide"
    }
   },
   "source": [
    "## contextmanager"
   ]
  },
  {
   "cell_type": "markdown",
   "metadata": {
    "slideshow": {
     "slide_type": "subslide"
    }
   },
   "source": [
    "### introduction"
   ]
  },
  {
   "cell_type": "markdown",
   "metadata": {
    "slideshow": {
     "slide_type": "fragment"
    }
   },
   "source": [
    "- What is a context manager? The context manager allows you to automatically start and end something. For example, you might want to open a file, write something, and close it. This is perhaps the most classic example of a context manager. In fact, Python automatically creates a context manager for you when you open a file using the with statement.\n",
    "\n",
    "- from Python 2.5 adds a very special keyword, \"with.\" With statements allow developers to create context managers"
   ]
  },
  {
   "cell_type": "code",
   "execution_count": null,
   "metadata": {
    "slideshow": {
     "slide_type": "subslide"
    }
   },
   "outputs": [],
   "source": [
    "# old way before python2.5\n",
    "f_obj = open(\"test/test.txt\",\"w\")\n",
    "try:\n",
    "    f_obj.write(\"hello\")\n",
    "finally:\n",
    "    f_obj.close()"
   ]
  },
  {
   "cell_type": "code",
   "execution_count": null,
   "metadata": {
    "slideshow": {
     "slide_type": "subslide"
    }
   },
   "outputs": [],
   "source": [
    "# use context manager\n",
    "with open(\"test/test.txt\",\"w\") as f_obj:\n",
    "    f_obj.write(\"hello\")"
   ]
  },
  {
   "cell_type": "markdown",
   "metadata": {
    "slideshow": {
     "slide_type": "subslide"
    }
   },
   "source": [
    "### create context manager"
   ]
  },
  {
   "cell_type": "markdown",
   "metadata": {
    "slideshow": {
     "slide_type": "subslide"
    }
   },
   "source": [
    "#### use __enter__ and __exit__"
   ]
  },
  {
   "cell_type": "code",
   "execution_count": null,
   "metadata": {
    "slideshow": {
     "slide_type": "subslide"
    }
   },
   "outputs": [],
   "source": [
    "import sqlite3\n",
    "\n",
    "class DataConn:\n",
    "    def __init__(self,db_name):\n",
    "        self.db_name = db_name\n",
    "\n",
    "    def __enter__(self):\n",
    "        self.conn = sqlite3.connect(self.db_name)\n",
    "        return self.conn\n",
    "\n",
    "    def __exit__(self,exc_type,exc_val,exc_tb):\n",
    "        self.conn.close()\n",
    "        if exc_val:\n",
    "            raise\n",
    "\n",
    "if __name__ == \"__main__\":\n",
    "    db = \"test.db\"\n",
    "    with DataConn(db) as conn:\n",
    "        cursor = conn.cursor()"
   ]
  },
  {
   "cell_type": "markdown",
   "metadata": {
    "slideshow": {
     "slide_type": "subslide"
    }
   },
   "source": [
    "#### use contextlib"
   ]
  },
  {
   "cell_type": "code",
   "execution_count": null,
   "metadata": {
    "slideshow": {
     "slide_type": "subslide"
    }
   },
   "outputs": [],
   "source": [
    "from contextlib import contextmanager\n",
    "\n",
    "#@contextmanager\n",
    "def file_open(path):\n",
    "    try:\n",
    "        f_obj = open(path,\"w\")\n",
    "        yield f_obj\n",
    "    except OSError:\n",
    "        print(\"We had an error!\")\n",
    "    finally:\n",
    "        print(\"Closing file\")\n",
    "        f_obj.close()\n",
    "\n",
    "with file_open(\"test.txt\") as fobj:\n",
    "    fobj.write(\"Testing context managers\")"
   ]
  },
  {
   "cell_type": "markdown",
   "metadata": {
    "slideshow": {
     "slide_type": "subslide"
    }
   },
   "source": [
    "#### contextlib.closing"
   ]
  },
  {
   "cell_type": "code",
   "execution_count": null,
   "metadata": {
    "slideshow": {
     "slide_type": "subslide"
    }
   },
   "outputs": [],
   "source": [
    "from contextlib import closing\n",
    "from urllib import urlopen\n",
    "with closing(urlopen(\"http://www.baidu.com\")) as webpage:\n",
    "    for line in webpage:\n",
    "        print '-----', line"
   ]
  },
  {
   "cell_type": "code",
   "execution_count": null,
   "metadata": {
    "slideshow": {
     "slide_type": "subslide"
    }
   },
   "outputs": [],
   "source": [
    "from contextlib import closing\n",
    "class Door(object):\n",
    "    def open(self):\n",
    "        print 'Door is opened'\n",
    " \n",
    "    def close(self):\n",
    "        print 'Door is closed'\n",
    " \n",
    "with closing(Door()) as door:\n",
    "    door.open()"
   ]
  },
  {
   "cell_type": "markdown",
   "metadata": {
    "slideshow": {
     "slide_type": "subslide"
    }
   },
   "source": [
    "#### note\n",
    "- Most of the context managers you create can only be used once in the with statement"
   ]
  },
  {
   "cell_type": "code",
   "execution_count": null,
   "metadata": {
    "slideshow": {
     "slide_type": "fragment"
    }
   },
   "outputs": [],
   "source": [
    "from contextlib import contextmanager\n",
    "@contextmanager\n",
    "def single():\n",
    "    print(\"Yielding\")\n",
    "    yield\n",
    "    print(\"Exiting context manager\")\n",
    "\n",
    "#context = single()\n",
    "with single():\n",
    "    pass\n",
    "\n",
    "with single():\n",
    "    pass\n"
   ]
  },
  {
   "cell_type": "markdown",
   "metadata": {
    "slideshow": {
     "slide_type": "subslide"
    }
   },
   "source": [
    "#### practice\n",
    "- The generator can perform an assembly line operation for a series of operations.\n",
    "Let's say we have a fast food chain journal.The fourth column in the log is the number of pizzas sold per hour, which we want to sum over the last five years.\n",
    "Assume that all data is characters and that the data that is not available is represented as \"N/A\", as you can do with the generator\n",
    "\n",
    "generator可以对一系列操作执行流水线操作。\n",
    "\n",
    "假设我们有一个快餐连锁店的日志。日志的第四列是每小时售出的披萨数量，我们想对近5年的这一数据进行求和。\n",
    "\n",
    "假设所有数据都是字符，不可用的数据都以\"N/A\"表示，使用generator可以这样实现"
   ]
  },
  {
   "cell_type": "code",
   "execution_count": null,
   "metadata": {
    "slideshow": {
     "slide_type": "subslide"
    }
   },
   "outputs": [],
   "source": [
    "# answer\n",
    "with open('sells.log') as file:  \n",
    "    pizza_col = (line[3] for line in file)  \n",
    "    per_hour = (int(x) for x in pizza_col if x != 'N/A')  \n",
    "    print(\"Total pizzas sold = \",sum(per_hour))  "
   ]
  },
  {
   "cell_type": "markdown",
   "metadata": {
    "slideshow": {
     "slide_type": "slide"
    }
   },
   "source": [
    "## Unit test and TDD\n",
    "![learning curve](//ifconfiger.com/media/programming_language_learning_curves_python.png?fileid=a9e2ae2d1a3c8d837beee6ee478df9d96592fdcb22837d72ff18e5be1c23bc48)"
   ]
  },
  {
   "cell_type": "code",
   "execution_count": null,
   "metadata": {
    "slideshow": {
     "slide_type": "subslide"
    }
   },
   "outputs": [],
   "source": [
    "class NameIsProtected(Exception):\n",
    "    \"\"\"Exception raised when key is tried to be overridden.\"\"\"\n",
    "\n",
    "def my_fun(name=\"\"):\n",
    "    if name == \"__init__\":\n",
    "        raise NameIsProtected\n",
    "    else:\n",
    "        return name.upper()\n",
    "\n"
   ]
  },
  {
   "cell_type": "code",
   "execution_count": null,
   "metadata": {
    "slideshow": {
     "slide_type": "fragment"
    }
   },
   "outputs": [],
   "source": [
    "class NameIsProtected(Exception):\n",
    "    \"\"\"Exception raised when key is tried to be overridden.\"\"\"\n",
    "\n",
    "def my_fun(name=\"\"):\n",
    "    if name == \"__init__\":\n",
    "        raise NameIsProtected\n",
    "    else:\n",
    "        return name.upper()\n",
    "\n",
    "import unittest\n",
    "from mock import Mock\n",
    "\n",
    "\n",
    "class Test_1(unittest.TestCase):\n",
    "    def test_01(self):\n",
    "        try:\n",
    "            my_fun('__init__')\n",
    "        except NameIsProtected:\n",
    "            self.assertTrue(True)\n",
    "        else:\n",
    "            self.assertTrue(False)\n",
    "        \n",
    "suite = unittest.TestLoader().loadTestsFromTestCase(Test_1)\n",
    "unittest.TextTestRunner().run(suite)"
   ]
  },
  {
   "cell_type": "code",
   "execution_count": null,
   "metadata": {
    "slideshow": {
     "slide_type": "subslide"
    }
   },
   "outputs": [],
   "source": [
    "class Test_2(unittest.TestCase):\n",
    "\n",
    "    def test_02(self):\n",
    "        with self.assertRaises(NameIsProtected):\n",
    "            my_fun('__init__')\n",
    "\n",
    "    def test_03(self):\n",
    "        self.assertEqual(my_fun('hi'), 'HI')\n",
    "        \n",
    "suite = unittest.TestLoader().loadTestsFromTestCase(Test_2)\n",
    "unittest.TextTestRunner().run(suite)"
   ]
  },
  {
   "cell_type": "code",
   "execution_count": null,
   "metadata": {
    "slideshow": {
     "slide_type": "subslide"
    }
   },
   "outputs": [],
   "source": [
    "# simulate exception\n",
    "import os\n",
    " \n",
    "class classA():\n",
    " \n",
    "    def getnum(self):\n",
    "        return 0\n",
    " \n",
    " \n",
    "    def self_function(self):\n",
    "        try:\n",
    "            if self.getnum()==0:\n",
    "                print(\"self_function you are very good\")\n",
    "        except:\n",
    "            print(\"self_function the except module\")\n",
    "        else:\n",
    "            print(\"self_function the else module\")\n",
    "\n",
    "import unittest\n",
    "from mock import Mock, patch\n",
    "\n",
    "\n",
    "class Test_3(unittest.TestCase):\n",
    "    \n",
    "    @patch(\"__main__.classA.getnum\")\n",
    "    def test_03(self, mock_getnum):\n",
    "        mock_getnum.side_effect = IOError\n",
    "        classA().self_function()\n",
    "\n",
    "    def test_04(self):\n",
    "        classA.getnum = Mock(side_effect = IOError)\n",
    "        classA().self_function()\n",
    "        \n",
    "suite = unittest.TestLoader().loadTestsFromTestCase(Test_3)\n",
    "unittest.TextTestRunner().run(suite)"
   ]
  },
  {
   "cell_type": "code",
   "execution_count": null,
   "metadata": {
    "code_folding": [],
    "slideshow": {
     "slide_type": "subslide"
    }
   },
   "outputs": [],
   "source": [
    "# mock\n",
    "class classB():\n",
    "    def python_function(self,path):\n",
    "        try:\n",
    "            if  os.path.exists(path):\n",
    "                print(\" test_python_function you are very good\")\n",
    "        except:\n",
    "            print(\"test_python_function the except module\")\n",
    "        else:\n",
    "            print(\"test_python_function the else module\")\n",
    "\n",
    "class Test_4(unittest.TestCase):\n",
    "\n",
    "    @patch(\"os.path.exists\")\n",
    "    def test_001(self, mock_exists):\n",
    "        mock_exists.side_effect = IOError\n",
    "        classB().python_function(\"/you\")\n",
    "\n",
    "    @patch(\"os.path.exists\")\n",
    "    def test_002(self, mock_exists):\n",
    "        mock_exists.side_effect = lambda x: True\n",
    "        classB().python_function(\"/you\")\n",
    "\n",
    "suite = unittest.TestLoader().loadTestsFromTestCase(Test_4)\n",
    "unittest.TextTestRunner().run(suite)"
   ]
  },
  {
   "cell_type": "code",
   "execution_count": null,
   "metadata": {
    "slideshow": {
     "slide_type": "subslide"
    }
   },
   "outputs": [],
   "source": [
    "# mock function every time return different value\n",
    "import unittest\n",
    "import mock\n",
    "class Calculator(object):\n",
    "\n",
    "    def add(self, a, b):\n",
    "        return a+b\n",
    "\n",
    "class Test_5(unittest.TestCase):\n",
    "\n",
    "    def setUp(self):\n",
    "        self.calculator = Calculator()\n",
    "\n",
    "    #@mock.patch('__main__.Calculator.add')\n",
    "    @mock.patch.object(Calculator, 'add')\n",
    "    def test_effect(self, mock_add):\n",
    "        mock_add.side_effect = [1, 2, 3]\n",
    "        self.assertEqual(self.calculator.add(8, 14), 1) \n",
    "        self.assertEqual(self.calculator.add(8, 14), 2) \n",
    "        self.assertEqual(self.calculator.add(8, 14), 3)\n",
    "\n",
    "\n",
    "suite = unittest.TestLoader().loadTestsFromTestCase(Test_5)\n",
    "unittest.TextTestRunner().run(suite)"
   ]
  },
  {
   "cell_type": "code",
   "execution_count": null,
   "metadata": {
    "slideshow": {
     "slide_type": "subslide"
    }
   },
   "outputs": [],
   "source": [
    "# mock multiple function in one test function\n",
    "import unittest\n",
    "import mock\n",
    "class Calculator(object):\n",
    "\n",
    "    def add(self, a, b):\n",
    "        return a+b\n",
    "\n",
    "    def multiple(self, a, b):\n",
    "        return a*b\n",
    "\n",
    "class Test_6(unittest.TestCase):\n",
    "\n",
    "    def setUp(self):\n",
    "        self.calculator = Calculator()\n",
    "\n",
    "    #@mock.patch('__main__.Calculator.add')\n",
    "    @mock.patch.object(Calculator, 'add')\n",
    "    @mock.patch.object(Calculator, 'multiple')\n",
    "    def test_effect(self, mock_multiple, mock_add):\n",
    "        mock_add.return_value = 1\n",
    "        mock_multiple.return_value = 2 \n",
    "        self.assertEqual(self.calculator.add(8, 14), 1)\n",
    "        self.assertEqual(self.calculator.multiple(8, 14), 2)\n",
    "\n",
    "\n",
    "suite = unittest.TestLoader().loadTestsFromTestCase(Test_6)\n",
    "unittest.TextTestRunner().run(suite)"
   ]
  },
  {
   "cell_type": "markdown",
   "metadata": {
    "slideshow": {
     "slide_type": "slide"
    }
   },
   "source": [
    "## setuptool,pip, vitualenv"
   ]
  },
  {
   "cell_type": "markdown",
   "metadata": {
    "slideshow": {
     "slide_type": "subslide"
    }
   },
   "source": [
    "### python project"
   ]
  },
  {
   "cell_type": "code",
   "execution_count": null,
   "metadata": {
    "slideshow": {
     "slide_type": "fragment"
    }
   },
   "outputs": [],
   "source": [
    "# setup.py example\n",
    "import re\n",
    "import sys\n",
    "import os\n",
    "from os.path import abspath, dirname, join\n",
    "from setuptools import setup, find_packages\n",
    "#from distutils.core import setup\n",
    "\n",
    "\n",
    "CURDIR = dirname(abspath(__file__))\n",
    "with open(join(CURDIR, 'requirements.cfg')) as f:\n",
    "    REQUIREMENTS = f.readlines()\n",
    "\n",
    "with open(join(CURDIR, 'README.md')) as f:\n",
    "    DESCRIPTION = f.read()\n",
    "\n",
    "CLASSIFIERS = '''\n",
    "Development Status :: 5 - Production/Stable\n",
    "License :: OSI Approved :: Apache Software License\n",
    "Operating System :: OS Independent\n",
    "Programming Language :: Python\n",
    "Programming Language :: Python :: 2.7\n",
    "Topic :: Software Development :: Testing\n",
    "Framework :: Robot Framework\n",
    "Framework :: Robot Framework :: Library\n",
    "'''.strip().splitlines()\n",
    "#[join('script', s) for s in os.listdir('script')]\n",
    "setup(\n",
    "    name='robot_*',\n",
    "    version='1.0.0',\n",
    "    description='robot package library.',\n",
    "    author='leo',\n",
    "    author_email='liyaowang518@gmali.com',\n",
    "    license='Apache License 2.0',\n",
    "    keywords='robot package library',\n",
    "    platforms='any',\n",
    "    classifiers=CLASSIFIERS,\n",
    "    setup_requires = REQUIREMENTS,\n",
    "    zip_safe=False,\n",
    "    packages=find_packages(),\n",
    "    include_package_data=True,\n",
    "    scripts=['script/my_*.py']\n",
    ")"
   ]
  },
  {
   "cell_type": "code",
   "execution_count": null,
   "metadata": {
    "slideshow": {
     "slide_type": "notes"
    }
   },
   "outputs": [],
   "source": [
    "➜  nbs git:(master) python setup.py --help-commands\n",
    "Standard commands:\n",
    "  build             build everything needed to install\n",
    "  build_py          \"build\" pure Python modules (copy to build directory)\n",
    "  build_ext         build C/C++ and Cython extensions (compile/link to build directory)\n",
    "  build_clib        build C/C++ libraries used by Python extensions\n",
    "  build_scripts     \"build\" scripts (copy and fixup #! line)\n",
    "  clean             clean up temporary files from 'build' command\n",
    "  install           install everything from build directory\n",
    "  install_lib       install all Python modules (extensions and pure Python)\n",
    "  install_headers   install C/C++ header files\n",
    "  install_scripts   install scripts (Python or otherwise)\n",
    "  install_data      install data files\n",
    "  sdist             create a source distribution (tarball, zip file, etc.)\n",
    "  register          register the distribution with the Python package index\n",
    "  bdist             create a built (binary) distribution\n",
    "  bdist_dumb        create a \"dumb\" built distribution\n",
    "  bdist_rpm         create an RPM distribution\n",
    "  bdist_wininst     create an executable installer for MS Windows\n",
    "  upload            upload binary package to PyPI\n",
    "  check             perform some checks on the package\n",
    "\n",
    "Extra commands:\n",
    "  saveopts          save supplied options to setup.cfg or other config file\n",
    "  testr             Run unit tests using testr\n",
    "  develop           install package in 'development mode'\n",
    "  upload_docs       Upload documentation to PyPI\n",
    "  isort             Run isort on modules registered in setuptools\n",
    "  test              run unit tests after in-place build\n",
    "  setopt            set an option in setup.cfg or another config file\n",
    "  nosetests         Run unit tests using nosetests\n",
    "  install_egg_info  Install an .egg-info directory for the package\n",
    "  rotate            delete older distributions, keeping N newest files\n",
    "  bdist_wheel       create a wheel distribution\n",
    "  egg_info          create a distribution's .egg-info directory\n",
    "  alias             define a shortcut to invoke one or more commands\n",
    "  easy_install      Find/get/install Python packages\n",
    "  bdist_egg         create an \"egg\" distribution\n",
    "\n",
    "usage: setup.py [global_opts] cmd1 [cmd1_opts] [cmd2 [cmd2_opts] ...]\n",
    "   or: setup.py --help [cmd1 cmd2 ...]\n",
    "   or: setup.py --help-commands\n",
    "   or: setup.py cmd --help"
   ]
  },
  {
   "cell_type": "markdown",
   "metadata": {
    "slideshow": {
     "slide_type": "subslide"
    }
   },
   "source": [
    "### pip"
   ]
  },
  {
   "cell_type": "markdown",
   "metadata": {
    "slideshow": {
     "slide_type": "subslide"
    }
   },
   "source": [
    "> pip --version\n",
    "\n",
    "> pip --help\n",
    "\n",
    "> pip install -U pip\n",
    "\n",
    "> pip install SomePackage              # 最新版本\n",
    ">\n",
    "> pip install SomePackage==1.0.4       # 指定版本\n",
    ">\n",
    "> pip install 'SomePackage>=1.0.4'     # 最小版本\n",
    "\n",
    "upgrade\n",
    "> pip install --upgrade SomePackage\n",
    "\n",
    "uninstall\n",
    "> pip uninstall SomePackage\n",
    "\n",
    "search\n",
    "> pip search SomePackage\n",
    "\n",
    "> pip show  # 显示安装包信息\n",
    "\n",
    "> pip show -f SomePackage        #查看指定包的详细信息\n",
    " \n",
    "> pip list                       #列出已安装的包\n",
    "> pip list -o                    #查看可升级的包\n"
   ]
  },
  {
   "cell_type": "markdown",
   "metadata": {
    "slideshow": {
     "slide_type": "subslide"
    }
   },
   "source": [
    "### vitualenv"
   ]
  },
  {
   "cell_type": "markdown",
   "metadata": {
    "slideshow": {
     "slide_type": "subslide"
    }
   },
   "source": [
    "#### install\n",
    "> pip install virtualenv"
   ]
  },
  {
   "cell_type": "markdown",
   "metadata": {
    "slideshow": {
     "slide_type": "subslide"
    }
   },
   "source": [
    "##### create new project\n",
    "\n",
    "> cd my_project\n",
    "> \n",
    "> virtualenv my_project_env\n",
    ">\n",
    "> virtualenv -p /usr/bin/python2.7 my_project_env   # if have multiple python"
   ]
  },
  {
   "cell_type": "markdown",
   "metadata": {
    "slideshow": {
     "slide_type": "subslide"
    }
   },
   "source": [
    "#### activate and deactivate vitual env\n",
    " \n",
    "> source my_project_env/bin/activate\n",
    "\n",
    "> deactivate"
   ]
  },
  {
   "cell_type": "markdown",
   "metadata": {
    "slideshow": {
     "slide_type": "subslide"
    }
   },
   "source": [
    "### pipenv"
   ]
  },
  {
   "cell_type": "markdown",
   "metadata": {
    "slideshow": {
     "slide_type": "subslide"
    }
   },
   "source": [
    "#### install\n",
    "> pip install pipenv"
   ]
  },
  {
   "cell_type": "markdown",
   "metadata": {
    "slideshow": {
     "slide_type": "subslide"
    }
   },
   "source": [
    "#### create new vitual project\n",
    "> cd project1\n",
    "\n",
    "> pipenv install"
   ]
  },
  {
   "cell_type": "markdown",
   "metadata": {
    "slideshow": {
     "slide_type": "notes"
    }
   },
   "source": [
    "pipenv install的时候有三种逻辑：\n",
    "\n",
    "如果目录下没有Pipfile和Pipfile.lock文件，表示创建一个新的虚拟环境；\n",
    "\n",
    "如果有，表示使用已有的Pipfile和Pipfile.lock文件中的配置创建一个虚拟环境；\n",
    "\n",
    "如果后面带诸如django这一类库名，表示为当前虚拟环境安装第三方库。\n"
   ]
  },
  {
   "cell_type": "markdown",
   "metadata": {
    "slideshow": {
     "slide_type": "subslide"
    }
   },
   "source": [
    "####  activate the vitual env\n",
    "> pipenv shell"
   ]
  },
  {
   "cell_type": "markdown",
   "metadata": {
    "slideshow": {
     "slide_type": "subslide"
    }
   },
   "source": [
    "#### deactivate the vitual env\n",
    "> exit"
   ]
  },
  {
   "cell_type": "markdown",
   "metadata": {
    "slideshow": {
     "slide_type": "subslide"
    }
   },
   "source": [
    "#### install and uninstall package\n",
    "> pipenv install gcp\n",
    "\n",
    "> pipenv uninstall gcp\n",
    "\n",
    "> pipenv install --dev django  # develop env"
   ]
  },
  {
   "cell_type": "markdown",
   "metadata": {
    "slideshow": {
     "slide_type": "subslide"
    }
   },
   "source": [
    "#### run\n",
    "> pipenv run python your_script.py"
   ]
  },
  {
   "cell_type": "code",
   "execution_count": null,
   "metadata": {
    "slideshow": {
     "slide_type": "subslide"
    }
   },
   "outputs": [],
   "source": [
    "$ pipenv\n",
    "Usage: pipenv [OPTIONS] COMMAND [ARGS]...\n",
    "\n",
    "Options:\n",
    "  --update         更新Pipenv & pip\n",
    "  --where          显示项目文件所在路径\n",
    "  --venv           显示虚拟环境实际文件所在路径\n",
    "  --py             显示虚拟环境Python解释器所在路径\n",
    "  --envs           显示虚拟环境的选项变量\n",
    "  --rm             删除虚拟环境\n",
    "  --bare           最小化输出\n",
    "  --completion     完整输出\n",
    "  --man            显示帮助页面\n",
    "  --three / --two  使用Python 3/2创建虚拟环境（注意本机已安装的Python版本）\n",
    "  --python TEXT    指定某个Python版本作为虚拟环境的安装源\n",
    "  --site-packages  附带安装原Python解释器中的第三方库\n",
    "  --jumbotron      不知道啥玩意....\n",
    "  --version        版本信息\n",
    "  -h, --help       帮助信息\n",
    "\n",
    "Commands:\n",
    "  check      检查安全漏洞\n",
    "  graph      显示当前依赖关系图信息\n",
    "  install    安装虚拟环境或者第三方库\n",
    "  lock       锁定并生成Pipfile.lock文件\n",
    "  open       在编辑器中查看一个库\n",
    "  run        在虚拟环境中运行命令\n",
    "  shell      进入虚拟环境\n",
    "  uninstall  卸载一个库\n",
    "  update     卸载当前所有的包，并安装它们的最新版本\n"
   ]
  },
  {
   "cell_type": "markdown",
   "metadata": {
    "slideshow": {
     "slide_type": "slide"
    }
   },
   "source": [
    "## Coroutine"
   ]
  },
  {
   "cell_type": "code",
   "execution_count": null,
   "metadata": {
    "slideshow": {
     "slide_type": "subslide"
    }
   },
   "outputs": [],
   "source": [
    "# yield\n",
    "def fibonacci():\n",
    "    a, b = 1, 1\n",
    "    yield a\n",
    "    yield b\n",
    "    while True:\n",
    "        a, b = b, a+b\n",
    "        yield b\n",
    "\n",
    "fib = fibonacci()\n",
    "for _ in xrange(20):\n",
    "    print fib.next()"
   ]
  },
  {
   "cell_type": "code",
   "execution_count": null,
   "metadata": {
    "slideshow": {
     "slide_type": "subslide"
    }
   },
   "outputs": [],
   "source": [
    "# yield send\n",
    "def puzzle_game():\n",
    "    while True:\n",
    "        answer = (yield 'type a word: ')\n",
    "        if answer == 'harry':\n",
    "            yield 'you got it'\n",
    "        else:\n",
    "            yield 'try again'\n",
    "            \n",
    "game = puzzle_game()\n",
    "game.next()\n",
    "game.send('jerry')\n",
    "game.next()\n",
    "game.send('harry')"
   ]
  },
  {
   "cell_type": "code",
   "execution_count": null,
   "metadata": {
    "slideshow": {
     "slide_type": "subslide"
    }
   },
   "outputs": [],
   "source": [
    "def fun():\n",
    "    r = ''\n",
    "    while True:\n",
    "        n = yield r\n",
    "        if not n:\n",
    "            return\n",
    "        print('fun test %s...' % n)\n",
    "        r = '200 OK'\n",
    "c = fun()\n",
    "c.next()\n",
    "print c.send(\"hello\")\n",
    "print c.send(\"world\")\n",
    "print c.send(\"\")\n"
   ]
  },
  {
   "cell_type": "code",
   "execution_count": null,
   "metadata": {
    "slideshow": {
     "slide_type": "subslide"
    }
   },
   "outputs": [],
   "source": [
    "# gevent, tornado\n",
    "import gevent\n",
    "import time\n",
    "\n",
    "def delay_echo(msg):\n",
    "    gevent.sleep(2)\n",
    "    print msg\n",
    "begin = time.time()    \n",
    "gevent.spawn(delay_echo, 'hello world')\n",
    "gevent.spawn(delay_echo, 'how are you')\n",
    "gevent.wait()\n",
    "end = time.time()\n",
    "print 'use:', end - begin"
   ]
  },
  {
   "cell_type": "markdown",
   "metadata": {
    "slideshow": {
     "slide_type": "subslide"
    }
   },
   "source": [
    "### 睡觉排序法\n",
    "\n",
    "http://3g.163.com/joke/article/E0BTTE7T05375711.html"
   ]
  },
  {
   "cell_type": "code",
   "execution_count": null,
   "metadata": {
    "slideshow": {
     "slide_type": "fragment"
    }
   },
   "outputs": [],
   "source": [
    "import gevent\n",
    "rank_list_src = [9, 2, 1, 3, 5]\n",
    "\n",
    "def delay_echo(msg):\n",
    "    gevent.sleep(msg)\n",
    "    print msg\n",
    "\n",
    "for i in rank_list_src:\n",
    "    gevent.spawn(delay_echo, i)\n",
    "gevent.wait()\n"
   ]
  },
  {
   "cell_type": "markdown",
   "metadata": {
    "slideshow": {
     "slide_type": "subslide"
    }
   },
   "source": [
    "**In Python3, there is builtin coroutine support from [asyncio](//docs.python.org/3.5/library/asyncio.html#module-asyncio) module**"
   ]
  },
  {
   "cell_type": "markdown",
   "metadata": {
    "slideshow": {
     "slide_type": "slide"
    }
   },
   "source": [
    "## Big data analysis"
   ]
  },
  {
   "cell_type": "markdown",
   "metadata": {
    "slideshow": {
     "slide_type": "fragment"
    }
   },
   "source": [
    "* iterator and itertools \n",
    "* numpy\n",
    "* pandas"
   ]
  },
  {
   "cell_type": "markdown",
   "metadata": {
    "slideshow": {
     "slide_type": "subslide"
    }
   },
   "source": [
    "### iterator"
   ]
  },
  {
   "cell_type": "code",
   "execution_count": null,
   "metadata": {
    "slideshow": {
     "slide_type": "subslide"
    }
   },
   "outputs": [],
   "source": [
    "# iterator\n",
    "# with open('access_10000.log') as fp:\n",
    "#     for line in fp:\n",
    "#         pass # proceed line\n",
    "\n",
    "d = {'a': 1, 'b': 2, 'c': 3}\n",
    "for k in d:\n",
    "    print k\n",
    "\n",
    "for k, v in d.items():  # 列表方式\n",
    "    print k, v\n",
    "    \n",
    "for k, v in d.iteritems(): # 迭代器方式\n",
    "    print k, v\n",
    "\n",
    "from itertools import imap\n",
    "\n",
    "for i in imap(int, ('0', '1', '2')):\n",
    "    print i*2"
   ]
  },
  {
   "cell_type": "markdown",
   "metadata": {
    "slideshow": {
     "slide_type": "notes"
    }
   },
   "source": [
    "1. 在Python2.x中，iteritems() 用于返回本身字典列表操作后的迭代器【Returns an iterator on all items(key/value pairs) 】，不占用额外的内存。\n",
    "\n",
    "2. 在Python 3.x 里面，iteritems()方法已经废除了。在3.x里用 items()替换iteritems() ，可以用于 for 来循环遍历。\n"
   ]
  },
  {
   "cell_type": "markdown",
   "metadata": {
    "slideshow": {
     "slide_type": "subslide"
    }
   },
   "source": [
    "### permutation and combination\n",
    "\n",
    "当m和n比较小的时候，用手比较容易得到结果，比如C(4,2)=6,A(5,3)=60\n",
    "\n",
    "但当数据比较大的时候，计算起来就不那么容易了，比如C(17,4)=2380\n",
    "\n",
    "**如果希望根据给出的详细数据，得到所有的可能排列组合，就需要使用python的itertools模块**"
   ]
  },
  {
   "cell_type": "code",
   "execution_count": null,
   "metadata": {
    "slideshow": {
     "slide_type": "fragment"
    }
   },
   "outputs": [],
   "source": [
    "import itertools \n",
    "print list(itertools.permutations([1,2,3,4],2))"
   ]
  },
  {
   "cell_type": "markdown",
   "metadata": {
    "slideshow": {
     "slide_type": "subslide"
    }
   },
   "source": [
    "**同样的，无序组合也可以：**"
   ]
  },
  {
   "cell_type": "code",
   "execution_count": null,
   "metadata": {
    "slideshow": {
     "slide_type": "fragment"
    }
   },
   "outputs": [],
   "source": [
    "import itertools \n",
    "print list(itertools.combinations([1,2,3,4],2))"
   ]
  },
  {
   "cell_type": "code",
   "execution_count": null,
   "metadata": {
    "slideshow": {
     "slide_type": "subslide"
    }
   },
   "outputs": [],
   "source": [
    "# 两个元组进行笛卡尔积：\n",
    "import itertools\n",
    "a = (1, 2, 3)\n",
    "b = ('A', 'B', 'C')\n",
    "c = itertools.product(a,b)\n",
    "for i in c:\n",
    "    print i"
   ]
  },
  {
   "cell_type": "code",
   "execution_count": null,
   "metadata": {
    "slideshow": {
     "slide_type": "subslide"
    }
   },
   "outputs": [],
   "source": [
    "龙门客栈\n",
    "明朝宪宗年间，宦官弄权，滥杀贤臣。侠客赵怀安在营救忠良行动中，将恶贯满盈的东厂督主万喻楼一剑毙命，引来西厂督主雨化田，祭出天下格杀令。\n",
    "赵怀安等人一路亡命，途中布满了西厂的眼线，一旦被发现他们将面临全天下亡命之徒的围攻。 他们得知曾毁于大火的龙门客栈里，风骚的老板娘早已神秘失踪，只剩下逃过火劫的伙计们重起炉灶，痴等老板娘回来。\n",
    "于是他们决定前往龙门客栈寻求帮忙。但铺天盖地的黑沙暴即将来临，好在他们得到了西厂的布防图。\n",
    "但布防图太复杂，一时也判断不出是否能在规定的时间内到达龙门客栈。 关键时刻赵怀安使出了“一梦千年”的绝技，托梦给500年后的你，现在请你帮忙计算出来他们在规定的时间内能否有机会到达龙门客栈？\n",
    "他会为你提供西厂的布防图以及黑沙暴到来的时间T。请你用现代科技帮忙判断是否能在规定的时间内到达龙门客栈。\n",
    "Input\n",
    "题目包括多组测试数据。\n",
    "每组测试数据以三个整数N,M,T(0 < N,M <= 20)开头，\n",
    "分别代表布防图的长(N)和高(M)，以黑沙暴到来 的天数(T)。\n",
    "紧接着有M行，N列字符，由”.”，”*”，”Z”，”L”组成。每行中每两个字符用空格隔开。其中\n",
    "“.” 代表能够通过的道路。\n",
    "“*” 代表有西厂的眼线，赵怀安不能从此通过。\n",
    "“L” 是龙六客栈所在的位置。\n",
    "“Z” 是赵怀安的起始位置。\n",
    "每天赵怀安只能选择上、下、左、右任意一方向走一条路。\n",
    "Output\n",
    "输出格式 Case #caseIndex: result\n",
    "caseIndex是case序号，从 1 开始。\n",
    "restult 是 \"YES\" 或 \"NO\" 如果能在规定时间内到达龙门客栈，则是”YES\", 否则是”NO“\n",
    "例子\n",
    "Input\n",
    "2\n",
    "4 4 5\n",
    ". . . L\n",
    ". * . .\n",
    ". * . .\n",
    "Z . . *\n",
    "\n",
    "3 4 5\n",
    ". . L\n",
    "* . .\n",
    "* . .\n",
    "Z . *\n",
    "Output\n",
    "Case #1: NO\n",
    "Case #2: YES"
   ]
  },
  {
   "cell_type": "code",
   "execution_count": null,
   "metadata": {
    "slideshow": {
     "slide_type": "subslide"
    }
   },
   "outputs": [],
   "source": [
    "T_1 = 5\n",
    "T_2 = 5\n",
    "data_1 = [11,12,13,14,21,23,24,31,33,34,41,42,43]\n",
    "data_2 = [11, 12, 13, 22, 23, 32, 33, 41, 42]\n",
    "start_1, end_1=41,  14\n",
    "start_2, end_2 = 13, 41\n",
    "import itertools\n",
    "\n",
    "def search_route(data, start_pos, end_pos, T):\n",
    "    all_iter = itertools.permutations(data)\n",
    "    print 'all_iter:', all_iter\n",
    "    for each_data in all_iter:\n",
    "        if abs(each_data.index(start_pos) - each_data.index(end_pos))<= T:\n",
    "            each_data_start_index = min(each_data.index(start_pos), each_data.index(end_pos))\n",
    "            each_data_end_index = max(each_data.index(start_pos), each_data.index(end_pos))\n",
    "            valid_data_list = each_data[each_data_start_index:each_data_end_index+1]\n",
    "            for index, ele in enumerate(valid_data_list):\n",
    "                value =  abs(valid_data_list[index+1]-valid_data_list[index])\n",
    "                if value!=1 and value!=10:\n",
    "                    break\n",
    "                if index==T-1 or index==len(valid_data_list)-2:\n",
    "                    print 'yes'\n",
    "                    print each_data\n",
    "                    return True\n",
    "\n",
    "    return False        \n",
    "\n",
    "print '----------game start-----------'\n",
    "ret = search_route(data_2, start_2, end_2, T_2)\n",
    "print 'ret:', ret\n",
    "print '----------game over-----------'"
   ]
  },
  {
   "cell_type": "markdown",
   "metadata": {
    "slideshow": {
     "slide_type": "subslide"
    }
   },
   "source": [
    "### numpy\n",
    "\n",
    "NumPy is an extended library of the Python language. Support a large number of advanced dimensional arrays and matrix operations, in addition to the array operation provides a large number of mathematical library. Numpy internally removes Python's PIL(global interpreter lock), which is extremely efficient and is the base library for a large number of machine learning frameworks!\n",
    "\n",
    "NumPy是Python语言的一个扩充程序库。支持高级大量的维度数组与矩阵运算，此外也针对数组运算提供大量的数学函数库。Numpy内部解除了Python的PIL(全局解释器锁),运算效率极好,是大量机器学习框架的基础库!\n"
   ]
  },
  {
   "cell_type": "markdown",
   "metadata": {
    "slideshow": {
     "slide_type": "subslide"
    }
   },
   "source": [
    "#### general assignment"
   ]
  },
  {
   "cell_type": "code",
   "execution_count": null,
   "metadata": {
    "slideshow": {
     "slide_type": "subslide"
    }
   },
   "outputs": [],
   "source": [
    "## create new data\n",
    "import numpy as np\n",
    "# 创建简单的列表\n",
    "a = [1, 2, 3, 4]\n",
    "# 将列表转换为数组\n",
    "b = np.array(a)\n",
    "print b\n",
    "print b.size    #数组元素个数\n",
    "print b.shape   #数组形状\n",
    "print b.ndim   #数组维度\n",
    "print b.dtype   #数组元素类型\n",
    "\n",
    "array_one = np.ones([10, 10])   #创建10行10列的数值为浮点1的矩阵\n",
    "print array_one\n",
    "array_zero = np.zeros([10, 10])   #创建10行10列的数值为浮点0的矩阵\n",
    "print array_zero"
   ]
  },
  {
   "cell_type": "markdown",
   "metadata": {
    "slideshow": {
     "slide_type": "subslide"
    }
   },
   "source": [
    "#### np.random"
   ]
  },
  {
   "cell_type": "code",
   "execution_count": null,
   "metadata": {
    "slideshow": {
     "slide_type": "subslide"
    }
   },
   "outputs": [],
   "source": [
    "#print np.random.rand(10, 10) #创建指定形状(示例为10行10列)的数组(范围在0至1之间)\n",
    "print np.random.uniform(0, 20) #创建指定范围内的一个数\n",
    "print np.random.randint(0, 20) #创建指定范围内的一个整数\n",
    "np.random.normal(1.75, 0.1, (2, 3))"
   ]
  },
  {
   "cell_type": "markdown",
   "metadata": {
    "slideshow": {
     "slide_type": "subslide"
    }
   },
   "source": [
    "#### slice"
   ]
  },
  {
   "cell_type": "code",
   "execution_count": null,
   "metadata": {
    "slideshow": {
     "slide_type": "subslide"
    }
   },
   "outputs": [],
   "source": [
    "# 正态生成4行5列的二维数组\n",
    "arr = np.random.normal(1.75, 0.1, (4, 5))\n",
    "print(arr)\n",
    "# 截取第1至2行的第2至3列(从第0行算起)\n",
    "after_arr = arr[1:3, 2:4]\n",
    "print(after_arr)"
   ]
  },
  {
   "attachments": {
    "%E5%9B%BE%E7%89%87.png": {
     "image/png": "[encoded data removed]"
    }
   },
   "cell_type": "markdown",
   "metadata": {
    "slideshow": {
     "slide_type": "subslide"
    }
   },
   "source": [
    "![%E5%9B%BE%E7%89%87.png](attachment:%E5%9B%BE%E7%89%87.png)"
   ]
  },
  {
   "cell_type": "code",
   "execution_count": null,
   "metadata": {
    "slideshow": {
     "slide_type": "subslide"
    }
   },
   "outputs": [],
   "source": [
    "# numpy\n",
    "import numpy as np\n",
    "\n",
    "# 1 2 3\n",
    "# 4 5 6\n",
    "# 7 8 9\n",
    "metrix = np.array([[1,2,3], [4,5,6], [7,8,9]])\n",
    "metrix[:2, 1:] # slice\n",
    "metrix[:2, 1:] = 0\n",
    "metrix # view of data but not copy"
   ]
  },
  {
   "cell_type": "code",
   "execution_count": null,
   "metadata": {
    "slideshow": {
     "slide_type": "subslide"
    }
   },
   "outputs": [],
   "source": [
    "# reshape\n",
    "print(\"reshape函数的使用!\")\n",
    "one_20 = np.ones([20])\n",
    "print(\"-->1行20列<--\")\n",
    "print (one_20)\n",
    "\n",
    "one_4_5 = one_20.reshape([4, 5])\n",
    "print(\"-->4行5列<--\")\n",
    "print (one_4_5)\n"
   ]
  },
  {
   "cell_type": "markdown",
   "metadata": {
    "slideshow": {
     "slide_type": "subslide"
    }
   },
   "source": [
    "#### Numpy calculation"
   ]
  },
  {
   "cell_type": "code",
   "execution_count": null,
   "metadata": {
    "slideshow": {
     "slide_type": "subslide"
    }
   },
   "outputs": [],
   "source": [
    "import numpy as np\n",
    "stus_score = np.array([[80, 88], [82, 81], [84, 75], [86, 83], [75, 81]])\n",
    "print stus_score > 80   # 条件判断\n",
    "\n",
    "print np.where(stus_score < 80, 0, 90)  # 三目运算\n",
    "\n",
    "print(\"每一列的最大值为:\")\n",
    "result = np.amax(stus_score, axis=0)\n",
    "print(result)\n",
    "\n",
    "print(\"每一列的最小值为:\")\n",
    "result = np.amin(stus_score, axis=0)\n",
    "print(result)\n",
    "\n",
    "print(\"每一行的最大值为:\")\n",
    "result = np.amax(stus_score, axis=1)\n",
    "print(result)\n",
    "\n",
    "print(\"每一行的最小值为:\")\n",
    "result = np.amin(stus_score, axis=1)\n",
    "print(result)\n",
    "\n",
    "print(\"每一列的平均值:\")\n",
    "result = np.mean(stus_score, axis=0)\n",
    "print(result)\n",
    "\n",
    "# 求每一行的平均值(1表示行)\n",
    "print(\"每一行的平均值:\")\n",
    "result = np.mean(stus_score, axis=1)\n",
    "print(result)\n"
   ]
  },
  {
   "cell_type": "code",
   "execution_count": null,
   "metadata": {
    "slideshow": {
     "slide_type": "subslide"
    }
   },
   "outputs": [],
   "source": [
    "stus_score = np.array([[80, 88], [82, 81], [84, 75], [86, 83], [75, 81]])\n",
    "print(\"加分前:\")\n",
    "print(stus_score)\n",
    "\n",
    "# 为所有平时成绩都加5分\n",
    "stus_score[:, 0] = stus_score[:, 0]+5\n",
    "print(\"加分后:\")\n",
    "print(stus_score)\n"
   ]
  },
  {
   "cell_type": "code",
   "execution_count": null,
   "metadata": {
    "slideshow": {
     "slide_type": "subslide"
    }
   },
   "outputs": [],
   "source": [
    "a = np.array([1, 2, 3, 4])\n",
    "b = np.array([10, 20, 30, 40])\n",
    "c = a + b\n",
    "d = a - b\n",
    "e = a * b\n",
    "f = a / b\n",
    "print(\"a+b:\", c)\n",
    "print(\"a-b:\", d)\n",
    "print(\"a*b:\", e)\n",
    "print(\"a/b:\", f)"
   ]
  },
  {
   "cell_type": "markdown",
   "metadata": {
    "slideshow": {
     "slide_type": "subslide"
    }
   },
   "source": [
    "#### np.dot()"
   ]
  },
  {
   "cell_type": "markdown",
   "metadata": {
    "slideshow": {
     "slide_type": "subslide"
    }
   },
   "source": [
    "(M行, N列) * (N行, Z列) = (M行, Z列)"
   ]
  },
  {
   "cell_type": "code",
   "execution_count": null,
   "metadata": {},
   "outputs": [],
   "source": [
    "stus_score = np.array([[80, 88], [82, 81], [84, 75], [86, 83], [75, 81]])\n",
    "print stus_score\n",
    "print(\"每一行的和为:\")\n",
    "result = np.sum(stus_score, axis=1)\n",
    "print(result)\n",
    "# 平时成绩占40% 期末成绩占60%, 计算结果\n",
    "q = np.array([[0.4], [0.6]])\n",
    "result = np.dot(stus_score, q)\n",
    "print(\"最终结果为:\")\n",
    "print(result)\n"
   ]
  },
  {
   "cell_type": "code",
   "execution_count": null,
   "metadata": {
    "slideshow": {
     "slide_type": "subslide"
    }
   },
   "outputs": [],
   "source": [
    "import numpy as np\n",
    "print(\"v1为:\")\n",
    "v1 = [[0, 1, 2, 3, 4, 5],\n",
    "      [6, 7, 8, 9, 10, 11]]\n",
    "v1 = np.array(v1) \n",
    "print(v1)\n",
    "print(\"v2为:\")\n",
    "v2 = [[12, 13, 14, 15, 16, 17], \n",
    "      [18, 19, 20, 21, 22, 23]]\n",
    "v2 = np.array(v2) \n",
    "print(v2)\n",
    "# 垂直拼接\n",
    "result = np.vstack((v1, v2))\n",
    "print(\"v1和v2垂直拼接的结果为\")\n",
    "print(result)\n",
    "\n",
    "result = np.hstack((v1, v2))\n",
    "print(\"v1和v2水平拼接的结果为\")\n",
    "print(result)\n"
   ]
  },
  {
   "cell_type": "markdown",
   "metadata": {
    "slideshow": {
     "slide_type": "subslide"
    }
   },
   "source": [
    "#### numpy.linalg.solve()"
   ]
  },
  {
   "attachments": {
    "%E5%9B%BE%E7%89%87.png": {
     "image/png": "[encoded data removed]"
    }
   },
   "cell_type": "markdown",
   "metadata": {
    "slideshow": {
     "slide_type": "subslide"
    }
   },
   "source": [
    "- 考虑以下线性方程：\n",
    "\n",
    "x + y + z = 6\n",
    "\n",
    "2y + 5z = -4\n",
    "\n",
    "2x + 5y - z = 27\n",
    "\n",
    "![%E5%9B%BE%E7%89%87.png](attachment:%E5%9B%BE%E7%89%87.png)"
   ]
  },
  {
   "cell_type": "code",
   "execution_count": null,
   "metadata": {
    "slideshow": {
     "slide_type": "fragment"
    }
   },
   "outputs": [],
   "source": [
    "import numpy as np\n",
    "\n",
    "a = np.array([[1, 1, 1], [0, 2, 5], [2, 5, -1]])\n",
    "c = np.array([[6], [-4], [27]])\n",
    "np.linalg.solve(a,c) "
   ]
  },
  {
   "cell_type": "markdown",
   "metadata": {
    "slideshow": {
     "slide_type": "subslide"
    }
   },
   "source": [
    "### practice\n",
    "implement Fibonacci  sequence with numpy"
   ]
  },
  {
   "cell_type": "code",
   "execution_count": null,
   "metadata": {},
   "outputs": [],
   "source": []
  },
  {
   "cell_type": "markdown",
   "metadata": {
    "slideshow": {
     "slide_type": "fragment"
    }
   },
   "source": [
    ">  https://blog.csdn.net/wangliyao518/article/details/82954540\n"
   ]
  },
  {
   "cell_type": "code",
   "execution_count": null,
   "metadata": {
    "slideshow": {
     "slide_type": "subslide"
    }
   },
   "outputs": [],
   "source": [
    "import numpy\n",
    " \n",
    "def fab(n):\n",
    "    return (numpy.matrix([[1, 1], [1, 0]]) ** (n - 1) * numpy.matrix([[1], [0]]))[0, 0]\n",
    " \n",
    "print fab(0), fab(1), fab(2), fab(3), fab(4), fab(5), fab(1000)"
   ]
  },
  {
   "cell_type": "markdown",
   "metadata": {
    "slideshow": {
     "slide_type": "subslide"
    }
   },
   "source": [
    "### pandas( Python Data Analysis Library)\n",
    "\n",
    "pandas is an open source, BSD-licensed library providing high-performance, easy-to-use data structures and data analysis tools for the Python programming language.\n",
    "\n",
    "pandas is a NumFOCUS sponsored project. This will help ensure the success of development of pandas as a world-class open-source project, and makes it possible to donate to the project.\n",
    "\n",
    "\n",
    "Pandas是一款开放源码的BSD许可的Python库，为Python编程语言提供了高性能，易于使用的数据结构和数据分析工具。Pandas用于广泛的领域，包括金融，经济，统计，分析等学术和商业领域。在本教程中，我们将学习Python Pandas的各种功能以及如何在实践中使用它们。"
   ]
  },
  {
   "cell_type": "markdown",
   "metadata": {
    "slideshow": {
     "slide_type": "subslide"
    }
   },
   "source": [
    "**Pandas处理以下三个数据结构**\n",
    "- 系列(Series)\n",
    "- 数据帧(DataFrame)\n",
    "- 面板(Panel)"
   ]
  },
  {
   "cell_type": "code",
   "execution_count": null,
   "metadata": {
    "slideshow": {
     "slide_type": "subslide"
    }
   },
   "outputs": [],
   "source": [
    "import pandas as pd\n",
    "\n",
    "s = pd.Series([1,3,5,6,8, 10, 20])\n",
    "\n",
    "print(s)"
   ]
  },
  {
   "cell_type": "code",
   "execution_count": null,
   "metadata": {
    "slideshow": {
     "slide_type": "subslide"
    }
   },
   "outputs": [],
   "source": [
    "import pandas as pd\n",
    "import numpy as np\n",
    "\n",
    "dates = pd.date_range('20170101', periods=7)\n",
    "print(dates)\n",
    "\n",
    "print(\"--\"*16)\n",
    "df = pd.DataFrame(np.random.randn(7,4), index=dates, columns=list('ABCD'))\n",
    "print(df)"
   ]
  },
  {
   "cell_type": "markdown",
   "metadata": {
    "slideshow": {
     "slide_type": "subslide"
    }
   },
   "source": [
    "面板(Panel)是3D容器的数据。面板数据一词来源于计量经济学，部分源于名称：Pandas - pan(el)-da(ta)-s。\n",
    "\n",
    "3轴(axis)这个名称旨在给出描述涉及面板数据的操作的一些语义。\n",
    "\n",
    "它们是 -items - axis 0，每个项目对应于内部包含的数据帧(DataFrame)。\n",
    "\n",
    "major_axis - axis 1，它是每个数据帧(DataFrame)的索引(行)。\n",
    "\n",
    "minor_axis - axis 2，它是每个数据帧(DataFrame)的列。"
   ]
  },
  {
   "cell_type": "code",
   "execution_count": null,
   "metadata": {
    "slideshow": {
     "slide_type": "subslide"
    }
   },
   "outputs": [],
   "source": [
    "# creating an empty panel from 3D ndarray\n",
    "import pandas as pd\n",
    "import numpy as np\n",
    "\n",
    "data = np.random.rand(2,4,5)\n",
    "p = pd.Panel(data)\n",
    "print p"
   ]
  },
  {
   "cell_type": "code",
   "execution_count": null,
   "metadata": {
    "slideshow": {
     "slide_type": "subslide"
    }
   },
   "outputs": [],
   "source": [
    "#creating an empty panel from DataFrame\n",
    "import pandas as pd\n",
    "import numpy as np\n",
    "\n",
    "data = {'Item1' : pd.DataFrame(np.random.randn(4, 3)), \n",
    "        'Item2' : pd.DataFrame(np.random.randn(4, 2))}\n",
    "p = pd.Panel(data)\n",
    "print p"
   ]
  },
  {
   "cell_type": "code",
   "execution_count": null,
   "metadata": {
    "slideshow": {
     "slide_type": "subslide"
    }
   },
   "outputs": [],
   "source": [
    "# creating an empty panel\n",
    "import pandas as pd\n",
    "import numpy as np\n",
    "data = {'Item1' : pd.DataFrame(np.random.randn(4, 3)), \n",
    "        'Item2' : pd.DataFrame(np.random.randn(4, 2))}\n",
    "p = pd.Panel(data)\n",
    "print p['Item2']"
   ]
  },
  {
   "cell_type": "markdown",
   "metadata": {
    "slideshow": {
     "slide_type": "slide"
    }
   },
   "source": [
    "## machine learning"
   ]
  },
  {
   "cell_type": "markdown",
   "metadata": {
    "slideshow": {
     "slide_type": "subslide"
    }
   },
   "source": [
    "Machine Learning is field of study that gives computers the ability to learn without being explicitly programmed.\n",
    "\n",
    "也就是说机器学习不需要制定具体的模型，而是让计算机根据庞大的数据量自己训练模型，与之相对的，例如CFD软件，是建立在物理模型之上的，例如输运方程等。\n",
    "\n",
    "https://blog.csdn.net/qq_25867649/article/details/78029849\n",
    "\n",
    "Learning problems fall into a few categories:\n",
    "\n",
    "        supervised learning, in which the data comes with additional attributes that we want to predict (Click here to go to the scikit-learn supervised learning page).This problem can be either:\n",
    "\n",
    "                classification: samples belong to two or more classes and we want to learn from already labeled data how to predict the class of unlabeled data. An example of a classification problem would be handwritten digit recognition, in which the aim is to assign each input vector to one of a finite number of discrete categories. Another way to think of classification is as a discrete (as opposed to continuous) form of supervised learning where one has a limited number of categories and for each of the n samples provided, one is to try to label them with the correct category or class.\n",
    "                regression: if the desired output consists of one or more continuous variables, then the task is called regression. An example of a regression problem would be the prediction of the length of a salmon as a function of its age and weight.\n",
    "\n",
    "        unsupervised learning, in which the training data consists of a set of input vectors x without any corresponding target values. The goal in such problems may be to discover groups of similar examples within the data, where it is called clustering, or to determine the distribution of data within the input space, known as density estimation, or to project the data from a high-dimensional space down to two or three dimensions for the purpose of visualization (Click here to go to the Scikit-Learn unsupervised learning page).\n",
    "\n"
   ]
  },
  {
   "cell_type": "code",
   "execution_count": null,
   "metadata": {
    "slideshow": {
     "slide_type": "subslide"
    }
   },
   "outputs": [],
   "source": [
    "import numpy as np\n",
    "from sklearn.svm import SVC\n",
    "from sklearn.multiclass import OneVsRestClassifier\n",
    "\n",
    "excellent = np.random.randint(85, 100,(100))\n",
    "print 'excellent:', excellent\n",
    "\n",
    "good = np.random.randint(60, 84, (100))\n",
    "print 'good:', good\n",
    "\n",
    "bad = np.random.randint(0, 59, (100))\n",
    "print 'bad:', bad\n",
    "\n",
    "y1 = np.array([1]*100)\n",
    "y2 = np.array([2]*100)\n",
    "y3 = np.array([3]*100)\n",
    "y = np.hstack((y1, y2, y3)) #.reshape(1, 3)\n",
    "\n",
    "\n",
    "X = np.hstack((excellent, good, bad)).reshape(300, 1)\n",
    "\n",
    "\n",
    "X_test = np.array([39.9, 98, 70]).reshape(3, 1)\n",
    "\n",
    "print 'X_test:', X_test, X_test.shape\n",
    "clf = SVC(probability=True)\n",
    "#clf = OneVsRestClassifier(estimator=SVC(gamma='scale', random_state=0, probability=True))\n",
    "print '=====', clf.fit(X, y)\n",
    "\n",
    "my_logreg_proba = clf.predict_proba(X_test)  \n",
    "my_logreg_pred = clf.predict(X_test)\n",
    "\n",
    "print X_test, my_logreg_pred\n",
    "\n",
    "for index in range (3):  \n",
    "    print(my_logreg_proba[index])  \n",
    "    print(\"Predict label:\", my_logreg_pred[index])  \n",
    "    print(\"Correct label:\", X_test[index])\n"
   ]
  },
  {
   "cell_type": "markdown",
   "metadata": {
    "slideshow": {
     "slide_type": "subslide"
    }
   },
   "source": [
    "Hangzhou TC Coding Contest -- machine learning\n",
    "\n",
    "http://10.182.198.199/\n",
    "\n"
   ]
  },
  {
   "cell_type": "code",
   "execution_count": null,
   "metadata": {},
   "outputs": [],
   "source": [
    "from sklearn.feature_extraction.text import TfidfTransformer  \n",
    "from sklearn.feature_extraction.text import CountVectorizer  \n",
    "\n",
    "corpus=[\"I come to China to travel\", \n",
    "    \"This is a car polupar in China\",          \n",
    "    \"I love tea and Apple \",   \n",
    "    \"The work is to write some papers in science\"] \n",
    "\n",
    "vectorizer=CountVectorizer()\n",
    "\n",
    "transformer = TfidfTransformer()\n",
    "tfidf = transformer.fit_transform(vectorizer.fit_transform(corpus))  \n",
    "print tfidf"
   ]
  },
  {
   "cell_type": "markdown",
   "metadata": {
    "slideshow": {
     "slide_type": "subslide"
    }
   },
   "source": [
    "> pip install MachineLearningForTextcategory\n",
    ">\n",
    "> smart_learn.py train --train_path ./ --model_save_path\n",
    ">\n",
    ">smart_learn.py train_model_from_file --file_path ./ --model_save_path\n",
    ">\n",
    "> smart_learn.py predict --file_path ./ --model_path\n",
    "\n",
    ">smart_learn.py predict --predict_words ./ --model_path\n"
   ]
  },
  {
   "cell_type": "markdown",
   "metadata": {
    "slideshow": {
     "slide_type": "subslide"
    }
   },
   "source": [
    "## reference\n",
    "\n",
    "> https://wiki.python.org/moin/Generators\n",
    "\n",
    "> https://eastlakeside.gitbooks.io/interpy-zh/content/Generators/Generators.html\n",
    "\n",
    "> https://blog.csdn.net/wangliyao518/article/details/83444107\n",
    "\n",
    "> https://www.yiibai.com/numpy/numpy_linear_algebra.html\n",
    "\n",
    "> https://www.jianshu.com/p/83c8ef18a1e8\n",
    "\n",
    "> https://blog.csdn.net/zhaofrjx/article/details/48394377\n",
    "\n",
    "> https://www.cnblogs.com/aiguiling/p/8594023.html\n",
    "\n",
    "> http://pandas.pydata.org/\n",
    "\n",
    "> https://www.yiibai.com/pandas\n",
    "\n",
    "> https://www.cnblogs.com/sharon123/p/6828853.html\n",
    "\n",
    "> https://scikit-learn.org/stable/tutorial/basic/tutorial.html#model-persistence\n"
   ]
  },
  {
   "cell_type": "code",
   "execution_count": null,
   "metadata": {},
   "outputs": [],
   "source": []
  }
 ],
 "metadata": {
  "celltoolbar": "Slideshow",
  "kernelspec": {
   "display_name": "Python 2",
   "language": "python",
   "name": "python2"
  },
  "language_info": {
   "codemirror_mode": {
    "name": "ipython",
    "version": 2
   },
   "file_extension": ".py",
   "mimetype": "text/x-python",
   "name": "python",
   "nbconvert_exporter": "python",
   "pygments_lexer": "ipython2",
   "version": "2.7.13"
  },
  "toc": {
   "base_numbering": 1,
   "nav_menu": {},
   "number_sections": true,
   "sideBar": true,
   "skip_h1_title": false,
   "title_cell": "Table of Contents",
   "title_sidebar": "Contents",
   "toc_cell": false,
   "toc_position": {
    "height": "795px",
    "left": "103px",
    "top": "765.233px",
    "width": "397px"
   },
   "toc_section_display": true,
   "toc_window_display": false
  }
 },
 "nbformat": 4,
 "nbformat_minor": 1
}
